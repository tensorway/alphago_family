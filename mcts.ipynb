{
 "metadata": {
  "language_info": {
   "codemirror_mode": {
    "name": "ipython",
    "version": 3
   },
   "file_extension": ".py",
   "mimetype": "text/x-python",
   "name": "python",
   "nbconvert_exporter": "python",
   "pygments_lexer": "ipython3",
   "version": "3.8.5-final"
  },
  "orig_nbformat": 2,
  "kernelspec": {
   "name": "python38564bitd95df06ad6614d8ea31ce2c635a29972",
   "display_name": "Python 3.8.5 64-bit",
   "language": "python"
  }
 },
 "nbformat": 4,
 "nbformat_minor": 2,
 "cells": [
  {
   "cell_type": "code",
   "execution_count": 5,
   "metadata": {},
   "outputs": [
    {
     "output_type": "stream",
     "name": "stdout",
     "text": [
      "The autoreload extension is already loaded. To reload it, use:\n  %reload_ext autoreload\n"
     ]
    }
   ],
   "source": [
    "from alpha_zero.models import RolloutPolicy, Model, TreePolicy\n",
    "from gym_tictactoe.env import TicTacToeEnv, agent_by_mark, next_mark\n",
    "from alpha_zero.mcts import mcts, Node, get_best_action, get_ns, get_qs, get_best_q\n",
    "from alpha_zero.utils import play_mcts_against_human, play_mcts_against_itself\n",
    "\n",
    "%load_ext autoreload\n",
    "%autoreload 2"
   ]
  },
  {
   "cell_type": "code",
   "execution_count": 6,
   "metadata": {
    "tags": []
   },
   "outputs": [
    {
     "output_type": "stream",
     "name": "stdout",
     "text": [
      "  O|X| \n  -----\n   |O| \n  -----\n  X| | \n\n"
     ]
    },
    {
     "output_type": "execute_result",
     "data": {
      "text/plain": [
       "(8,\n",
       " {((1, 2, 0, 0, 1, 0, 2, 0, 0), 'O'): n=2000 q=1956 nchild=5 action=None,\n",
       "  ((1, 2, 1, 0, 1, 0, 2, 0, 0), 'X'): n=25 q=-14 nchild=4 action=2,\n",
       "  ((1, 2, 0, 1, 1, 0, 2, 0, 0), 'X'): n=23 q=-12 nchild=4 action=3,\n",
       "  ((1, 2, 0, 0, 1, 1, 2, 0, 0), 'X'): n=31 q=-20 nchild=4 action=5,\n",
       "  ((1, 2, 0, 0, 1, 0, 2, 1, 0), 'X'): n=16 q=-5 nchild=4 action=7,\n",
       "  ((1, 2, 0, 0, 1, 0, 2, 0, 1), 'X'): n=1904 q=-1904 nchild=0 action=8,\n",
       "  ((1, 2, 1, 2, 1, 0, 2, 0, 0), 'O'): n=6 q=4 nchild=3 action=3,\n",
       "  ((1, 2, 2, 1, 1, 0, 2, 0, 0), 'O'): n=4 q=4 nchild=3 action=2,\n",
       "  ((1, 2, 2, 0, 1, 1, 2, 0, 0), 'O'): n=8 q=6 nchild=3 action=2,\n",
       "  ((1, 2, 2, 0, 1, 0, 2, 1, 0), 'O'): n=3 q=2 nchild=2 action=2,\n",
       "  ((1, 2, 1, 0, 1, 2, 2, 0, 0), 'O'): n=5 q=5 nchild=3 action=5,\n",
       "  ((1, 2, 0, 1, 1, 2, 2, 0, 0), 'O'): n=7 q=3 nchild=3 action=5,\n",
       "  ((1, 2, 0, 2, 1, 1, 2, 0, 0), 'O'): n=8 q=5 nchild=3 action=3,\n",
       "  ((1, 2, 0, 2, 1, 0, 2, 1, 0), 'O'): n=4 q=2 nchild=3 action=3,\n",
       "  ((1, 2, 1, 0, 1, 0, 2, 2, 0), 'O'): n=6 q=4 nchild=3 action=7,\n",
       "  ((1, 2, 0, 1, 1, 0, 2, 2, 0), 'O'): n=4 q=4 nchild=3 action=7,\n",
       "  ((1, 2, 0, 0, 1, 1, 2, 2, 0), 'O'): n=7 q=5 nchild=3 action=7,\n",
       "  ((1, 2, 0, 0, 1, 2, 2, 1, 0), 'O'): n=4 q=2 nchild=3 action=5,\n",
       "  ((1, 2, 1, 0, 1, 0, 2, 0, 2), 'O'): n=7 q=2 nchild=3 action=8,\n",
       "  ((1, 2, 0, 1, 1, 0, 2, 0, 2), 'O'): n=7 q=2 nchild=3 action=8,\n",
       "  ((1, 2, 0, 0, 1, 1, 2, 0, 2), 'O'): n=7 q=5 nchild=3 action=8,\n",
       "  ((1, 2, 0, 0, 1, 0, 2, 1, 2), 'O'): n=4 q=0 nchild=3 action=8,\n",
       "  ((1, 2, 1, 2, 1, 1, 2, 0, 0), 'X'): n=3 q=0 nchild=2 action=5,\n",
       "  ((1, 2, 2, 1, 1, 1, 2, 0, 0), 'X'): n=4 q=-4 nchild=0 action=5,\n",
       "  ((1, 2, 2, 1, 1, 0, 2, 1, 0), 'X'): n=2 q=-1 nchild=1 action=3,\n",
       "  ((1, 2, 1, 1, 1, 2, 2, 0, 0), 'X'): n=2 q=0 nchild=1 action=2,\n",
       "  ((1, 2, 1, 2, 1, 1, 2, 2, 0), 'O'): n=2 q=2 nchild=1 action=7,\n",
       "  ((1, 2, 1, 0, 1, 1, 2, 2, 0), 'X'): n=2 q=0 nchild=1 action=2,\n",
       "  ((1, 2, 1, 2, 1, 0, 2, 1, 0), 'X'): n=2 q=0 nchild=1 action=2,\n",
       "  ((1, 2, 1, 1, 1, 2, 2, 2, 0), 'O'): n=2 q=2 nchild=1 action=7,\n",
       "  ((1, 2, 1, 1, 1, 0, 2, 2, 0), 'X'): n=2 q=0 nchild=1 action=3,\n",
       "  ((1, 2, 1, 1, 1, 2, 2, 2, 1), 'X'): n=1 q=-1 nchild=0 action=8,\n",
       "  ((1, 2, 1, 1, 1, 0, 2, 0, 2), 'X'): n=3 q=1 nchild=2 action=2,\n",
       "  ((1, 2, 1, 0, 1, 1, 2, 0, 2), 'X'): n=3 q=2 nchild=2 action=2,\n",
       "  ((1, 2, 1, 0, 1, 2, 2, 1, 0), 'X'): n=2 q=0 nchild=1 action=2,\n",
       "  ((1, 2, 1, 1, 1, 2, 2, 0, 2), 'O'): n=1 q=1 nchild=0 action=5,\n",
       "  ((1, 2, 1, 2, 1, 2, 2, 1, 0), 'O'): n=2 q=2 nchild=1 action=5,\n",
       "  ((1, 2, 0, 1, 1, 2, 2, 1, 0), 'X'): n=2 q=0 nchild=1 action=7,\n",
       "  ((1, 2, 0, 1, 1, 1, 2, 2, 0), 'X'): n=3 q=-3 nchild=0 action=3,\n",
       "  ((1, 2, 1, 2, 1, 1, 2, 2, 1), 'X'): n=1 q=-1 nchild=0 action=8,\n",
       "  ((1, 2, 0, 1, 1, 1, 2, 0, 2), 'X'): n=5 q=-5 nchild=0 action=3,\n",
       "  ((1, 2, 1, 2, 1, 2, 2, 1, 1), 'X'): n=1 q=-1 nchild=0 action=8,\n",
       "  ((1, 2, 2, 0, 1, 1, 2, 1, 0), 'X'): n=2 q=0 nchild=1 action=7,\n",
       "  ((1, 2, 1, 0, 1, 0, 2, 1, 2), 'X'): n=3 q=-1 nchild=2 action=2,\n",
       "  ((1, 2, 1, 2, 1, 1, 2, 0, 2), 'O'): n=2 q=0 nchild=1 action=3,\n",
       "  ((1, 2, 1, 2, 1, 0, 2, 0, 1), 'X'): n=3 q=-3 nchild=0 action=8,\n",
       "  ((1, 2, 1, 0, 1, 0, 2, 2, 1), 'X'): n=3 q=-3 nchild=0 action=8,\n",
       "  ((1, 2, 1, 2, 1, 0, 2, 1, 2), 'O'): n=1 q=1 nchild=0 action=3,\n",
       "  ((1, 2, 1, 0, 1, 2, 2, 0, 1), 'X'): n=2 q=-2 nchild=0 action=8,\n",
       "  ((1, 2, 0, 1, 1, 2, 2, 0, 1), 'X'): n=4 q=-4 nchild=0 action=8,\n",
       "  ((1, 2, 2, 1, 1, 2, 2, 1, 0), 'O'): n=2 q=2 nchild=1 action=5,\n",
       "  ((1, 2, 0, 2, 1, 1, 2, 1, 0), 'X'): n=2 q=0 nchild=1 action=7,\n",
       "  ((1, 2, 1, 1, 1, 0, 2, 2, 2), 'O'): n=1 q=-1 nchild=0 action=7,\n",
       "  ((1, 2, 0, 1, 1, 0, 2, 1, 2), 'X'): n=3 q=0 nchild=2 action=7,\n",
       "  ((1, 2, 2, 2, 1, 1, 2, 1, 0), 'O'): n=2 q=2 nchild=1 action=2,\n",
       "  ((1, 2, 2, 1, 1, 2, 2, 1, 1), 'X'): n=1 q=-1 nchild=0 action=8,\n",
       "  ((1, 2, 2, 1, 1, 0, 2, 1, 2), 'O'): n=1 q=1 nchild=0 action=2,\n",
       "  ((1, 2, 2, 2, 1, 1, 2, 1, 1), 'X'): n=1 q=-1 nchild=0 action=8,\n",
       "  ((1, 2, 0, 2, 1, 0, 2, 1, 1), 'X'): n=1 q=-1 nchild=0 action=8,\n",
       "  ((1, 2, 0, 0, 1, 2, 2, 1, 1), 'X'): n=1 q=-1 nchild=0 action=8,\n",
       "  ((1, 2, 0, 0, 1, 1, 2, 1, 2), 'X'): n=4 q=-2 nchild=2 action=5,\n",
       "  ((1, 2, 1, 0, 1, 2, 2, 1, 2), 'O'): n=1 q=1 nchild=0 action=5,\n",
       "  ((1, 2, 1, 0, 1, 1, 2, 2, 2), 'O'): n=1 q=-1 nchild=0 action=7,\n",
       "  ((1, 2, 2, 1, 1, 0, 2, 0, 1), 'X'): n=1 q=-1 nchild=0 action=8,\n",
       "  ((1, 2, 0, 1, 1, 0, 2, 2, 1), 'X'): n=1 q=-1 nchild=0 action=8,\n",
       "  ((1, 2, 0, 1, 1, 2, 2, 1, 2), 'O'): n=1 q=0 nchild=0 action=5,\n",
       "  ((1, 2, 2, 0, 1, 1, 2, 0, 1), 'X'): n=3 q=-3 nchild=0 action=8,\n",
       "  ((1, 2, 0, 2, 1, 1, 2, 0, 1), 'X'): n=4 q=-4 nchild=0 action=8,\n",
       "  ((1, 2, 0, 0, 1, 1, 2, 2, 1), 'X'): n=3 q=-3 nchild=0 action=8,\n",
       "  ((1, 2, 2, 0, 1, 1, 2, 1, 2), 'O'): n=2 q=2 nchild=1 action=2,\n",
       "  ((1, 2, 0, 2, 1, 1, 2, 1, 2), 'O'): n=1 q=1 nchild=0 action=3,\n",
       "  ((1, 2, 2, 1, 1, 1, 2, 1, 2), 'X'): n=1 q=-1 nchild=0 action=3,\n",
       "  ((1, 2, 1, 2, 1, 1, 2, 1, 2), 'X'): n=1 q=0 nchild=0 action=7})"
      ]
     },
     "metadata": {},
     "execution_count": 6
    }
   ],
   "source": [
    "env = TicTacToeEnv()\n",
    "obs = env.reset()\n",
    "env.step(0)\n",
    "env.step(1)\n",
    "env.step(4)\n",
    "# env.step(2)\n",
    "obs, _, _, _ = env.step(6)\n",
    "# obs, _, _, _ = env.step(2)\n",
    "env.render()\n",
    "\n",
    "nodes = {}\n",
    "rollout_policy = RolloutPolicy(env)\n",
    "model = Model(TicTacToeEnv())\n",
    "nodes[obs] = Node()\n",
    "for i in range(2000):\n",
    "    mcts(nodes, obs, TreePolicy(), model, rollout_policy, cpucb=100)\n",
    "get_best_action(nodes, obs, model), nodes"
   ]
  },
  {
   "cell_type": "code",
   "execution_count": 7,
   "metadata": {},
   "outputs": [
    {
     "output_type": "stream",
     "name": "stdout",
     "text": [
      "((0, 0, 0, 0, 0, 0, 0, 0, 0), 'O')\n[91, 1, 1, 1, 1, 1, 1, 1, 1]\n0 0.07692307692307693\n  O| | \n  -----\n   | | \n  -----\n   | | \n\n[-inf, 92, 1, 1, 1, 1, 1, 1, 1]\n1 0.06521739130434782\n  O|X| \n  -----\n   | | \n  -----\n   | | \n\n[-inf, -inf, 93, 1, 1, 1, 1, 1, 1]\n2 -0.0\n  O|X|O\n  -----\n   | | \n  -----\n   | | \n\n[-inf, -inf, -inf, 38, 57, 1, 1, 1, 1]\n4 0.3157894736842105\n  O|X|O\n  -----\n   |X| \n  -----\n   | | \n\n[-inf, -inf, -inf, 11, -inf, 13, 13, 47, 15]\n7 0.06382978723404255\n  O|X|O\n  -----\n   |X| \n  -----\n   |O| \n\n[-inf, -inf, -inf, 96, -inf, 1, 1, -inf, 1]\n3 0.010416666666666666\n  O|X|O\n  -----\n  X|X| \n  -----\n   |O| \n\n[-inf, -inf, -inf, -inf, -inf, 97, 1, -inf, 1]\n5 -0.0\n  O|X|O\n  -----\n  X|X|O\n  -----\n   |O| \n\n[-inf, -inf, -inf, -inf, -inf, -inf, 1, -inf, 98]\n8 -0.0\n  O|X|O\n  -----\n  X|X|O\n  -----\n   |O|X\n\n[-inf, -inf, -inf, -inf, -inf, -inf, 99, -inf, -inf]\n6 -0.0\n  O|X|O\n  -----\n  X|X|O\n  -----\n  O|O|X\n\nfinal reward= 0\n"
     ]
    }
   ],
   "source": [
    "play_mcts_against_itself(env, model, TreePolicy(), RolloutPolicy(env))"
   ]
  },
  {
   "cell_type": "code",
   "execution_count": 8,
   "metadata": {},
   "outputs": [
    {
     "output_type": "stream",
     "name": "stdout",
     "text": [
      "   | | \n  -----\n   | | \n  -----\n   | | \n\n--------------------\n"
     ]
    },
    {
     "output_type": "error",
     "ename": "ValueError",
     "evalue": "invalid literal for int() with base 10: ''",
     "traceback": [
      "\u001b[0;31m---------------------------------------------------------------------------\u001b[0m",
      "\u001b[0;31mValueError\u001b[0m                                Traceback (most recent call last)",
      "\u001b[0;32m<ipython-input-8-e29efb579d14>\u001b[0m in \u001b[0;36m<module>\u001b[0;34m\u001b[0m\n\u001b[0;32m----> 1\u001b[0;31m \u001b[0mplay_mcts_against_human\u001b[0m\u001b[0;34m(\u001b[0m\u001b[0menv\u001b[0m\u001b[0;34m,\u001b[0m \u001b[0mmodel\u001b[0m\u001b[0;34m,\u001b[0m \u001b[0mTreePolicy\u001b[0m\u001b[0;34m(\u001b[0m\u001b[0;34m)\u001b[0m\u001b[0;34m,\u001b[0m \u001b[0mRolloutPolicy\u001b[0m\u001b[0;34m(\u001b[0m\u001b[0menv\u001b[0m\u001b[0;34m)\u001b[0m\u001b[0;34m)\u001b[0m\u001b[0;34m\u001b[0m\u001b[0;34m\u001b[0m\u001b[0m\n\u001b[0m",
      "\u001b[0;32m~/githubs/alphago_family/alpha_zero/utils.py\u001b[0m in \u001b[0;36mplay_mcts_against_human\u001b[0;34m(env, model, policy, rollout_policy, human, discount_factor, n_simulations)\u001b[0m\n\u001b[1;32m     32\u001b[0m         \u001b[0mprint\u001b[0m\u001b[0;34m(\u001b[0m\u001b[0;34m\"-\"\u001b[0m\u001b[0;34m*\u001b[0m\u001b[0;36m20\u001b[0m\u001b[0;34m)\u001b[0m\u001b[0;34m\u001b[0m\u001b[0;34m\u001b[0m\u001b[0m\n\u001b[1;32m     33\u001b[0m         \u001b[0;32mif\u001b[0m \u001b[0mhuman\u001b[0m \u001b[0;34m==\u001b[0m \u001b[0mturn\u001b[0m\u001b[0;34m%\u001b[0m\u001b[0;36m2\u001b[0m\u001b[0;34m:\u001b[0m\u001b[0;34m\u001b[0m\u001b[0;34m\u001b[0m\u001b[0m\n\u001b[0;32m---> 34\u001b[0;31m             \u001b[0mbesta\u001b[0m \u001b[0;34m=\u001b[0m \u001b[0mint\u001b[0m\u001b[0;34m(\u001b[0m\u001b[0minput\u001b[0m\u001b[0;34m(\u001b[0m\u001b[0;34m\"your play? \"\u001b[0m\u001b[0;34m)\u001b[0m\u001b[0;34m)\u001b[0m\u001b[0;34m\u001b[0m\u001b[0;34m\u001b[0m\u001b[0m\n\u001b[0m\u001b[1;32m     35\u001b[0m             \u001b[0mprint\u001b[0m\u001b[0;34m(\u001b[0m\u001b[0;34m\"your action was\"\u001b[0m\u001b[0;34m,\u001b[0m \u001b[0mbesta\u001b[0m\u001b[0;34m)\u001b[0m\u001b[0;34m\u001b[0m\u001b[0;34m\u001b[0m\u001b[0m\n\u001b[1;32m     36\u001b[0m             \u001b[0mobs\u001b[0m\u001b[0;34m,\u001b[0m \u001b[0mr\u001b[0m\u001b[0;34m,\u001b[0m \u001b[0mdone\u001b[0m\u001b[0;34m,\u001b[0m \u001b[0m_\u001b[0m \u001b[0;34m=\u001b[0m \u001b[0menv\u001b[0m\u001b[0;34m.\u001b[0m\u001b[0mstep\u001b[0m\u001b[0;34m(\u001b[0m\u001b[0mbesta\u001b[0m\u001b[0;34m)\u001b[0m\u001b[0;34m\u001b[0m\u001b[0;34m\u001b[0m\u001b[0m\n",
      "\u001b[0;31mValueError\u001b[0m: invalid literal for int() with base 10: ''"
     ]
    }
   ],
   "source": [
    "play_mcts_against_human(env, model, TreePolicy(), RolloutPolicy(env))"
   ]
  },
  {
   "cell_type": "code",
   "execution_count": null,
   "metadata": {},
   "outputs": [],
   "source": []
  }
 ]
}