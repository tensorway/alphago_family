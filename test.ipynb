{
 "metadata": {
  "language_info": {
   "codemirror_mode": {
    "name": "ipython",
    "version": 3
   },
   "file_extension": ".py",
   "mimetype": "text/x-python",
   "name": "python",
   "nbconvert_exporter": "python",
   "pygments_lexer": "ipython3",
   "version": "3.8.5-final"
  },
  "orig_nbformat": 2,
  "kernelspec": {
   "name": "python38564bitd95df06ad6614d8ea31ce2c635a29972",
   "display_name": "Python 3.8.5 64-bit"
  }
 },
 "nbformat": 4,
 "nbformat_minor": 2,
 "cells": [
  {
   "cell_type": "code",
   "execution_count": 1,
   "metadata": {},
   "outputs": [],
   "source": [
    "import numpy as np\n",
    "import random "
   ]
  },
  {
   "cell_type": "code",
   "execution_count": 2,
   "metadata": {},
   "outputs": [
    {
     "output_type": "execute_result",
     "data": {
      "text/plain": [
       "(array([[-15.02040457],\n",
       "        [  5.        ],\n",
       "        [  1.5       ]]),\n",
       " array([[ 0.84515957],\n",
       "        [-1.69031913],\n",
       "        [ 0.84515957],\n",
       "        [ 0.        ],\n",
       "        [ 0.        ]]),\n",
       " array([[-0.59173247],\n",
       "        [ 0.12242741],\n",
       "        [ 0.        ],\n",
       "        [-0.02040457],\n",
       "        [ 0.09182055]]))"
      ]
     },
     "metadata": {},
     "execution_count": 2
    }
   ],
   "source": [
    "a = np.array([[1, 0, -1, -28, 0],\n",
    "              [0, 1, 2,   6, 0],\n",
    "              [0, 0, 0, 9/2, 1]])\n",
    "x1 = np.array([[-17/3], [3], [0], [1/3], [0]])\n",
    "x2 = np.array([[1], [-2], [1], [0], [0]]) * random.random()\n",
    "x3 = np.array([[-58/9], [4/3], [0], [-2/9], [1]]) * random.random()\n",
    "x = x1+x2+x3\n",
    "xb = np.array([[-15], [5], [0], [0], [1.5]])\n",
    "a@x, x2, x3"
   ]
  },
  {
   "cell_type": "code",
   "execution_count": 4,
   "metadata": {},
   "outputs": [],
   "source": [
    "from gym_tictactoe.env import TicTacToeEnv, agent_by_mark, next_mark\n",
    "\n",
    "env = TicTacToeEnv()\n",
    "obs = env.reset()"
   ]
  },
  {
   "cell_type": "code",
   "execution_count": 5,
   "metadata": {},
   "outputs": [
    {
     "output_type": "execute_result",
     "data": {
      "text/plain": [
       "Discrete(9)"
      ]
     },
     "metadata": {},
     "execution_count": 5
    }
   ],
   "source": [
    "env.action_space"
   ]
  },
  {
   "cell_type": "code",
   "execution_count": 6,
   "metadata": {},
   "outputs": [],
   "source": [
    "class RolloutPolicy:\n",
    "    def __init__(self, env):\n",
    "        self.env = env\n",
    "    def act(self, obs, render=False):\n",
    "        return env.action_space.sample()\n",
    "    def rollout(self, obs, model, render=False):\n",
    "        d = False\n",
    "        rsum = 0\n",
    "        while not d:\n",
    "            obs, r, d, _ = model.step(obs, self.act(obs))\n",
    "            rsum += r\n",
    "        return rsum\n",
    "\n",
    "class Model:\n",
    "    def __init__(self, env):\n",
    "        self.env = env\n",
    "    def step(self, obs, action):\n",
    "        self._set_env(obs)\n",
    "        return self.env.step(action)\n",
    "    def available_actions(self, obs):\n",
    "        self._set_env(obs)\n",
    "        return self.env.available_actions()\n",
    "    def _set_env(self, obs):\n",
    "        self.env.board = list(obs[0])\n",
    "        self.env.mark  = obs[1] \n",
    "        self.done = False\n",
    "    def get_num_actions(self):\n",
    "        return self.env.action_space.n\n",
    "\n",
    "class TreePolicy:\n",
    "    def __init__(self):\n",
    "        pass\n",
    "    def act(self, obs, available_actions):\n",
    "        import random\n",
    "        return random.choice(available_actions)\n",
    "    def get_action_probs(self, obs, available_actions):\n",
    "        return [1/len(available_actions) for i in range(len(available_actions))]\n",
    "\n",
    "rollout_policy = RolloutPolicy(env)\n",
    "model = Model(TicTacToeEnv())\n",
    "tree_policy = TreePolicy()\n",
    "# obs = env.reset()\n",
    "# rollout_policy.rollout(obs, model)"
   ]
  },
  {
   "cell_type": "code",
   "execution_count": 29,
   "metadata": {},
   "outputs": [],
   "source": [
    "class Node:\n",
    "    def __init__(self, obs, reward, change_child_rew_sign=True, reward_sign=1, done=False, parent=None):\n",
    "        self.n = 0\n",
    "        self.cumulative_reward = 0#reward\n",
    "        self.parent = parent\n",
    "        self.action2child = {}\n",
    "        self.nchildren = 0\n",
    "        self.taken_actions = []\n",
    "        self.obs = obs\n",
    "        self.done = done\n",
    "        self.reward = reward\n",
    "        self.reward_sign = reward_sign\n",
    "        self.change_child_rew_sign = change_child_rew_sign\n",
    "    def get_q(self):\n",
    "        return self.cumulative_reward/(self.n)\n",
    "\n",
    "    def backpropagate(self, r, gamma=1):\n",
    "        self.n += 1\n",
    "        self.cumulative_reward += r*gamma*self.reward_sign\n",
    "        if not( -1 <= self.get_q() <= 1 ) and 0:\n",
    "            print(self.__dict__)\n",
    "        if self.parent is None:\n",
    "            return \n",
    "        self.parent.backpropagate(r, gamma=gamma)\n",
    "    def print_parents(self):\n",
    "        if self.parent is None:\n",
    "            return\n",
    "        self.parent.print_parents()\n",
    "\n",
    "    def create_child(self, ChildType, policy, model):\n",
    "        non_taken_actions = self._list_cut(model.available_actions(self.obs), self.taken_actions)\n",
    "        action = policy.act(self.obs, non_taken_actions)\n",
    "        self.taken_actions.append(action)\n",
    "        obs, reward, done, info = model.step(self.obs, action)\n",
    "        reward_sign= -self.reward_sign if self.change_child_rew_sign else self.reward_sign\n",
    "        child = ChildType(obs, reward, done=done, reward_sign=reward_sign, parent=self)\n",
    "        self.action2child[action] = child\n",
    "        self.nchildren += 1\n",
    "        return child, action\n",
    "\n",
    "    def _list_cut(self, l1, l2):\n",
    "        toret = []\n",
    "        for a1 in l1:\n",
    "            if a1 not in l2:\n",
    "                toret.append(a1)\n",
    "        return toret\n",
    "\n",
    "    def rollout(self, rollout_policy, render=False):\n",
    "        if self.done:\n",
    "            return self.reward\n",
    "        return rollout_policy.act(self.obs, render=render)"
   ]
  },
  {
   "cell_type": "code",
   "execution_count": 30,
   "metadata": {},
   "outputs": [],
   "source": [
    "def UCB(root_node, policy, model, alpha=1):\n",
    "    scores = [0 for i in range(model.get_num_actions())]\n",
    "    all_actions = list(range(model.get_num_actions()))\n",
    "    probs = policy.get_action_probs(root_node.obs, all_actions)\n",
    "    maxscore, a_maxscore = float('-inf'), -1\n",
    "    for a in root_node.action2child.keys():\n",
    "        child = root_node.action2child[a]\n",
    "        u = probs[a]/(1+child.n)\n",
    "        q = child.get_q()\n",
    "        score = q + alpha*u\n",
    "        scores.append(score)\n",
    "        if score > maxscore:\n",
    "            maxscore = score\n",
    "            a_maxscore = a\n",
    "    return scores, (a_maxscore, maxscore)\n",
    "\n",
    "def MCTS(root_node, max_depth, n_times, policy, model, alpha_UCB=1):\n",
    "    current_node  = root_node\n",
    "    current_depth = 0\n",
    "    n_times_done  = 0\n",
    "\n",
    "    while n_times_done != n_times:\n",
    "        if current_depth == max_depth or current_node.done:\n",
    "            current_node.print_parents()\n",
    "            reward = current_node.rollout(rollout_policy)\n",
    "            current_node.backpropagate(reward, gamma=0.99)\n",
    "            current_node = root_node\n",
    "            n_times_done += 1\n",
    "            current_depth = 0\n",
    "            model.env.done = False\n",
    "        elif current_node.nchildren < len(model.available_actions(current_node.obs)):\n",
    "            child, action = current_node.create_child(Node, policy, model) \n",
    "            current_node = child\n",
    "            current_depth += 1\n",
    "        else:\n",
    "            scores, (a_maxscore, maxscore) = UCB(current_node, policy, model, alpha_UCB)\n",
    "            current_node = current_node.action2child[a_maxscore]\n",
    "            current_depth += 1\n",
    "\n",
    "    visits = []\n",
    "    for a in range(model.get_num_actions()):\n",
    "        if a in root_node.action2child:\n",
    "            visits.append(root_node.action2child[a].get_q())\n",
    "        else:\n",
    "            visits.append(float('nan'))\n",
    "    return visits"
   ]
  },
  {
   "cell_type": "code",
   "execution_count": 33,
   "metadata": {
    "tags": []
   },
   "outputs": [
    {
     "output_type": "stream",
     "name": "stdout",
     "text": [
      "   | | \n",
      "  -----\n",
      "   | | \n",
      "  -----\n",
      "   | | \n",
      "\n",
      "4 O\n",
      "[[-0.3689441  -0.30518797 -0.37125   ]\n",
      " [-0.3025     -0.58384615 -0.30046433]\n",
      " [-0.35221154 -0.3006228  -0.32659794]]\n",
      "   | | \n",
      "  -----\n",
      "   |O| \n",
      "  -----\n",
      "   | | \n",
      "\n",
      " \n",
      " \n",
      " \n",
      "0 X\n",
      "[[  0.10182792   0.57315789   0.56163462]\n",
      " [  0.59921053 100.           0.57483871]\n",
      " [  0.48         0.87576923   0.476     ]]\n",
      "  X| | \n",
      "  -----\n",
      "   |O| \n",
      "  -----\n",
      "   | | \n",
      "\n",
      " \n",
      " \n",
      " \n",
      "1 O\n",
      "[[ 1.00000000e+02 -5.99210526e-01 -5.99210526e-01]\n",
      " [-5.62500000e-01  1.00000000e+02 -4.86885246e-01]\n",
      " [-5.79512195e-01 -4.66714286e-01 -2.78399258e-02]]\n",
      "  X|O| \n",
      "  -----\n",
      "   |O| \n",
      "  -----\n",
      "   | | \n",
      "\n",
      " \n",
      " \n",
      " \n",
      "7 X\n",
      "[[1.00000000e+02 1.00000000e+02 7.02580645e-01]\n",
      " [5.62941176e-01 1.00000000e+02 7.61538462e-01]\n",
      " [5.18571429e-01 1.25265306e-02 7.16896552e-01]]\n",
      "  X|O| \n",
      "  -----\n",
      "   |O| \n",
      "  -----\n",
      "   |X| \n",
      "\n",
      " \n",
      " \n",
      " \n",
      "6 O\n",
      "[[ 1.00000000e+02  1.00000000e+02 -4.40000000e-01]\n",
      " [-5.50000000e-01  1.00000000e+02 -4.80000000e-01]\n",
      " [-7.29473684e-01  1.00000000e+02 -6.61001517e-03]]\n",
      "  X|O| \n",
      "  -----\n",
      "   |O| \n",
      "  -----\n",
      "  O|X| \n",
      "\n",
      " \n",
      " \n",
      " \n",
      "2 X\n",
      "[[1.00000000e+02 1.00000000e+02 2.18828494e-03]\n",
      " [6.60000000e-01 1.00000000e+02 6.60000000e-01]\n",
      " [1.00000000e+02 1.00000000e+02 9.90000000e-01]]\n",
      "  X|O|X\n",
      "  -----\n",
      "   |O| \n",
      "  -----\n",
      "  O|X| \n",
      "\n",
      " \n",
      " \n",
      " \n",
      "3 O\n",
      "[[100.       100.       100.      ]\n",
      " [ -0.680625 100.        -0.680625]\n",
      " [100.       100.         0.      ]]\n",
      "  X|O|X\n",
      "  -----\n",
      "  O|O| \n",
      "  -----\n",
      "  O|X| \n",
      "\n",
      " \n",
      " \n",
      " \n",
      "5 X\n",
      "[[100.   100.   100.  ]\n",
      " [100.   100.    -0.  ]\n",
      " [100.   100.     0.99]]\n",
      "  X|O|X\n",
      "  -----\n",
      "  O|O|X\n",
      "  -----\n",
      "  O|X| \n",
      "\n",
      " \n",
      " \n",
      " \n",
      "8 O\n",
      "[[100. 100. 100.]\n",
      " [100. 100. 100.]\n",
      " [100. 100.   0.]]\n",
      "  X|O|X\n",
      "  -----\n",
      "  O|O|X\n",
      "  -----\n",
      "  O|X|O\n",
      "\n",
      " \n",
      " \n",
      " \n"
     ]
    }
   ],
   "source": [
    "import numpy as np\n",
    "test_env = TicTacToeEnv()\n",
    "obs = test_env.reset()\n",
    "# obs, r, done, _ = test_env.step(4)\n",
    "# obs, r, done, _ = test_env.step(0)\n",
    "# obs, r, done, _ = test_env.step(1)\n",
    "# obs, r, done, _ = test_env.step(7)\n",
    "# obs, r, done, _ = test_env.step(6)\n",
    "# obs, r, done, _ = test_env.step(2)\n",
    "# obs, r, done, _ = test_env.step(3)\n",
    "# obs, r, done, _ = test_env.step(5)\n",
    "done = False\n",
    "test_env.render()\n",
    "\n",
    "while not done:\n",
    "    root = Node(obs, 0)\n",
    "    dic = MCTS(root, 10, 10000, tree_policy, model, 100)\n",
    "    dic = np.array(dic)\n",
    "    if test_env.mark != test_env.start_mark:\n",
    "        dic *= -1\n",
    "\n",
    "    dic = np.nan_to_num(dic, nan=100)\n",
    "    move = np.argmin(dic)\n",
    "    print(move, test_env.mark)\n",
    "    print(dic.reshape(3, 3))\n",
    "    obs, r, done, _ = test_env.step(move)\n",
    "    test_env.render()\n",
    "    # print(obs, done, r)\n",
    "    print(\" \")\n",
    "    print(\" \")\n",
    "    print(\" \")"
   ]
  },
  {
   "cell_type": "code",
   "execution_count": 490,
   "metadata": {},
   "outputs": [
    {
     "output_type": "stream",
     "name": "stdout",
     "text": [
      "  O|O|X\n  -----\n  X|O|X\n  -----\n  X| |X\n\nTrue 0\n\n  X|O|X\n  -----\n  X|O|X\n  -----\n  X| |X\n\n"
     ]
    }
   ],
   "source": [
    "env.render()\n",
    "root = Node(obs, 0)\n",
    "dic = MCTS(root, 100, 1000, tree_policy, model, 1)\n",
    "dic = np.array(dic)\n",
    "move = np.argmin(dic)\n",
    "print(done, move)\n",
    "print(\"\")\n",
    "obs, r, done, _ = env.step(move)\n",
    "env.render()"
   ]
  },
  {
   "cell_type": "code",
   "execution_count": 622,
   "metadata": {},
   "outputs": [
    {
     "output_type": "stream",
     "name": "stdout",
     "text": [
      "[0.87096774 0.84375           nan 0.92307692 0.8852459  0.82442748\n 0.75524476 0.93162393 0.91525424]\n"
     ]
    },
    {
     "output_type": "execute_result",
     "data": {
      "text/plain": [
       "array([0.87096774, 0.84375   ,        nan, 0.92307692, 0.8852459 ,\n",
       "       0.82442748, 0.75524476, 0.93162393, 0.91525424])"
      ]
     },
     "metadata": {},
     "execution_count": 622
    }
   ],
   "source": [
    "print(dic)\n",
    "dic[dic==float('nan')] = float('inf')\n",
    "dic"
   ]
  },
  {
   "cell_type": "code",
   "execution_count": 623,
   "metadata": {},
   "outputs": [
    {
     "output_type": "execute_result",
     "data": {
      "text/plain": [
       "array([0.87096774, 0.84375   ,        nan, 0.92307692, 0.8852459 ,\n",
       "       0.82442748, 0.75524476, 0.93162393, 0.91525424])"
      ]
     },
     "metadata": {},
     "execution_count": 623
    }
   ],
   "source": [
    "dic.nan"
   ]
  },
  {
   "cell_type": "code",
   "execution_count": 282,
   "metadata": {},
   "outputs": [
    {
     "output_type": "stream",
     "name": "stdout",
     "text": [
      "The Zen of Python, by Tim Peters\n\nBeautiful is better than ugly.\nExplicit is better than implicit.\nSimple is better than complex.\nComplex is better than complicated.\nFlat is better than nested.\nSparse is better than dense.\nReadability counts.\nSpecial cases aren't special enough to break the rules.\nAlthough practicality beats purity.\nErrors should never pass silently.\nUnless explicitly silenced.\nIn the face of ambiguity, refuse the temptation to guess.\nThere should be one-- and preferably only one --obvious way to do it.\nAlthough that way may not be obvious at first unless you're Dutch.\nNow is better than never.\nAlthough never is often better than *right* now.\nIf the implementation is hard to explain, it's a bad idea.\nIf the implementation is easy to explain, it may be a good idea.\nNamespaces are one honking great idea -- let's do more of those!\n"
     ]
    }
   ],
   "source": [
    "import this"
   ]
  },
  {
   "cell_type": "code",
   "execution_count": 40,
   "metadata": {},
   "outputs": [
    {
     "output_type": "execute_result",
     "data": {
      "text/plain": [
       "(((0, 1, 0, 0, 0, 0, 0, 0, 0), 'X'), 0, False, None)"
      ]
     },
     "metadata": {},
     "execution_count": 40
    }
   ],
   "source": [
    "obs"
   ]
  },
  {
   "cell_type": "code",
   "execution_count": 86,
   "metadata": {},
   "outputs": [
    {
     "output_type": "execute_result",
     "data": {
      "text/plain": [
       "[3, 4, 5]"
      ]
     },
     "metadata": {},
     "execution_count": 86
    }
   ],
   "source": [
    "env.available_actions()"
   ]
  },
  {
   "cell_type": "code",
   "execution_count": 150,
   "metadata": {},
   "outputs": [],
   "source": [
    "a = {1:12, 2:23}\n"
   ]
  },
  {
   "cell_type": "code",
   "execution_count": 156,
   "metadata": {},
   "outputs": [
    {
     "output_type": "stream",
     "name": "stdout",
     "text": [
      "1\n2\n"
     ]
    }
   ],
   "source": [
    "for i in a:\n",
    "    print(i)"
   ]
  },
  {
   "cell_type": "code",
   "execution_count": 333,
   "metadata": {},
   "outputs": [
    {
     "output_type": "stream",
     "name": "stdout",
     "text": [
      "(((0, 1, 0, 0, 0, 0, 0, 0, 0), 'X'), 0, False, None)\n(((0, 1, 2, 0, 0, 0, 0, 0, 0), 'O'), 0, False, None)\n(((0, 1, 2, 1, 0, 0, 0, 0, 0), 'X'), 0, False, None)\n(((0, 1, 2, 1, 2, 0, 0, 0, 0), 'O'), 0, False, None)\n(((0, 1, 2, 1, 2, 1, 0, 0, 0), 'X'), 0, False, None)\n(((0, 1, 2, 1, 2, 1, 2, 0, 0), 'O'), -1, True, None)\n(((0, 1, 2, 1, 2, 1, 2, 0, 0), 'O'), 0, True, None)\n(((0, 1, 2, 1, 2, 1, 2, 0, 0), 'O'), 0, True, None)\n(((0, 1, 2, 1, 2, 1, 2, 0, 0), 'O'), 0, True, None)\n"
     ]
    }
   ],
   "source": [
    "obs = env.reset()\n",
    "for i in range(9):\n",
    "    print(env.step((i+1)%9))"
   ]
  },
  {
   "cell_type": "code",
   "execution_count": null,
   "metadata": {},
   "outputs": [],
   "source": []
  }
 ]
}